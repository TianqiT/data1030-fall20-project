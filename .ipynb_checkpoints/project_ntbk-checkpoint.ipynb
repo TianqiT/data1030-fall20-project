{
 "cells": [
  {
   "cell_type": "code",
   "execution_count": 57,
   "metadata": {},
   "outputs": [],
   "source": [
    "import pandas as pd\n",
    "from pandas import merge\n",
    "import numpy as np\n",
    "from sklearn.model_selection import train_test_split, KFold, GroupShuffleSplit\n",
    "from sklearn.preprocessing import StandardScaler\n",
    "from sklearn import datasets\n",
    "import matplotlib\n",
    "from matplotlib import pylab as plt\n",
    "import warnings\n",
    "from sklearn.model_selection import StratifiedKFold\n",
    "from sklearn.model_selection import train_test_split\n",
    "from sklearn.preprocessing import OrdinalEncoder\n",
    "from sklearn.preprocessing import OneHotEncoder\n",
    "from sklearn.preprocessing import MinMaxScaler\n",
    "from sklearn.preprocessing import StandardScaler\n",
    "from sklearn.preprocessing import LabelEncoder\n",
    "from sklearn.compose import ColumnTransformer\n",
    "from sklearn.pipeline import Pipeline\n",
    "import seaborn\n",
    "\n",
    "df = pd.read_csv(\"ObesityDataSet.csv\")"
   ]
  },
  {
   "cell_type": "code",
   "execution_count": 11,
   "metadata": {},
   "outputs": [
    {
     "data": {
      "text/html": [
       "<div>\n",
       "<style scoped>\n",
       "    .dataframe tbody tr th:only-of-type {\n",
       "        vertical-align: middle;\n",
       "    }\n",
       "\n",
       "    .dataframe tbody tr th {\n",
       "        vertical-align: top;\n",
       "    }\n",
       "\n",
       "    .dataframe thead th {\n",
       "        text-align: right;\n",
       "    }\n",
       "</style>\n",
       "<table border=\"1\" class=\"dataframe\">\n",
       "  <thead>\n",
       "    <tr style=\"text-align: right;\">\n",
       "      <th></th>\n",
       "      <th>Gender</th>\n",
       "      <th>Age</th>\n",
       "      <th>Height</th>\n",
       "      <th>Weight</th>\n",
       "      <th>family_history_with_overweight</th>\n",
       "      <th>FAVC</th>\n",
       "      <th>FCVC</th>\n",
       "      <th>NCP</th>\n",
       "      <th>CAEC</th>\n",
       "      <th>SMOKE</th>\n",
       "      <th>CH2O</th>\n",
       "      <th>SCC</th>\n",
       "      <th>FAF</th>\n",
       "      <th>TUE</th>\n",
       "      <th>CALC</th>\n",
       "      <th>MTRANS</th>\n",
       "      <th>NObeyesdad</th>\n",
       "    </tr>\n",
       "  </thead>\n",
       "  <tbody>\n",
       "    <tr>\n",
       "      <th>0</th>\n",
       "      <td>Female</td>\n",
       "      <td>21.000000</td>\n",
       "      <td>1.620000</td>\n",
       "      <td>64.000000</td>\n",
       "      <td>yes</td>\n",
       "      <td>no</td>\n",
       "      <td>2.0</td>\n",
       "      <td>3.0</td>\n",
       "      <td>Sometimes</td>\n",
       "      <td>no</td>\n",
       "      <td>2.000000</td>\n",
       "      <td>no</td>\n",
       "      <td>0.000000</td>\n",
       "      <td>1.000000</td>\n",
       "      <td>no</td>\n",
       "      <td>Public_Transportation</td>\n",
       "      <td>Normal_Weight</td>\n",
       "    </tr>\n",
       "    <tr>\n",
       "      <th>1</th>\n",
       "      <td>Female</td>\n",
       "      <td>21.000000</td>\n",
       "      <td>1.520000</td>\n",
       "      <td>56.000000</td>\n",
       "      <td>yes</td>\n",
       "      <td>no</td>\n",
       "      <td>3.0</td>\n",
       "      <td>3.0</td>\n",
       "      <td>Sometimes</td>\n",
       "      <td>yes</td>\n",
       "      <td>3.000000</td>\n",
       "      <td>yes</td>\n",
       "      <td>3.000000</td>\n",
       "      <td>0.000000</td>\n",
       "      <td>Sometimes</td>\n",
       "      <td>Public_Transportation</td>\n",
       "      <td>Normal_Weight</td>\n",
       "    </tr>\n",
       "    <tr>\n",
       "      <th>2</th>\n",
       "      <td>Male</td>\n",
       "      <td>23.000000</td>\n",
       "      <td>1.800000</td>\n",
       "      <td>77.000000</td>\n",
       "      <td>yes</td>\n",
       "      <td>no</td>\n",
       "      <td>2.0</td>\n",
       "      <td>3.0</td>\n",
       "      <td>Sometimes</td>\n",
       "      <td>no</td>\n",
       "      <td>2.000000</td>\n",
       "      <td>no</td>\n",
       "      <td>2.000000</td>\n",
       "      <td>1.000000</td>\n",
       "      <td>Frequently</td>\n",
       "      <td>Public_Transportation</td>\n",
       "      <td>Normal_Weight</td>\n",
       "    </tr>\n",
       "    <tr>\n",
       "      <th>3</th>\n",
       "      <td>Male</td>\n",
       "      <td>27.000000</td>\n",
       "      <td>1.800000</td>\n",
       "      <td>87.000000</td>\n",
       "      <td>no</td>\n",
       "      <td>no</td>\n",
       "      <td>3.0</td>\n",
       "      <td>3.0</td>\n",
       "      <td>Sometimes</td>\n",
       "      <td>no</td>\n",
       "      <td>2.000000</td>\n",
       "      <td>no</td>\n",
       "      <td>2.000000</td>\n",
       "      <td>0.000000</td>\n",
       "      <td>Frequently</td>\n",
       "      <td>Walking</td>\n",
       "      <td>Overweight_Level_I</td>\n",
       "    </tr>\n",
       "    <tr>\n",
       "      <th>4</th>\n",
       "      <td>Male</td>\n",
       "      <td>22.000000</td>\n",
       "      <td>1.780000</td>\n",
       "      <td>89.800000</td>\n",
       "      <td>no</td>\n",
       "      <td>no</td>\n",
       "      <td>2.0</td>\n",
       "      <td>1.0</td>\n",
       "      <td>Sometimes</td>\n",
       "      <td>no</td>\n",
       "      <td>2.000000</td>\n",
       "      <td>no</td>\n",
       "      <td>0.000000</td>\n",
       "      <td>0.000000</td>\n",
       "      <td>Sometimes</td>\n",
       "      <td>Public_Transportation</td>\n",
       "      <td>Overweight_Level_II</td>\n",
       "    </tr>\n",
       "    <tr>\n",
       "      <th>...</th>\n",
       "      <td>...</td>\n",
       "      <td>...</td>\n",
       "      <td>...</td>\n",
       "      <td>...</td>\n",
       "      <td>...</td>\n",
       "      <td>...</td>\n",
       "      <td>...</td>\n",
       "      <td>...</td>\n",
       "      <td>...</td>\n",
       "      <td>...</td>\n",
       "      <td>...</td>\n",
       "      <td>...</td>\n",
       "      <td>...</td>\n",
       "      <td>...</td>\n",
       "      <td>...</td>\n",
       "      <td>...</td>\n",
       "      <td>...</td>\n",
       "    </tr>\n",
       "    <tr>\n",
       "      <th>2106</th>\n",
       "      <td>Female</td>\n",
       "      <td>20.976842</td>\n",
       "      <td>1.710730</td>\n",
       "      <td>131.408528</td>\n",
       "      <td>yes</td>\n",
       "      <td>yes</td>\n",
       "      <td>3.0</td>\n",
       "      <td>3.0</td>\n",
       "      <td>Sometimes</td>\n",
       "      <td>no</td>\n",
       "      <td>1.728139</td>\n",
       "      <td>no</td>\n",
       "      <td>1.676269</td>\n",
       "      <td>0.906247</td>\n",
       "      <td>Sometimes</td>\n",
       "      <td>Public_Transportation</td>\n",
       "      <td>Obesity_Type_III</td>\n",
       "    </tr>\n",
       "    <tr>\n",
       "      <th>2107</th>\n",
       "      <td>Female</td>\n",
       "      <td>21.982942</td>\n",
       "      <td>1.748584</td>\n",
       "      <td>133.742943</td>\n",
       "      <td>yes</td>\n",
       "      <td>yes</td>\n",
       "      <td>3.0</td>\n",
       "      <td>3.0</td>\n",
       "      <td>Sometimes</td>\n",
       "      <td>no</td>\n",
       "      <td>2.005130</td>\n",
       "      <td>no</td>\n",
       "      <td>1.341390</td>\n",
       "      <td>0.599270</td>\n",
       "      <td>Sometimes</td>\n",
       "      <td>Public_Transportation</td>\n",
       "      <td>Obesity_Type_III</td>\n",
       "    </tr>\n",
       "    <tr>\n",
       "      <th>2108</th>\n",
       "      <td>Female</td>\n",
       "      <td>22.524036</td>\n",
       "      <td>1.752206</td>\n",
       "      <td>133.689352</td>\n",
       "      <td>yes</td>\n",
       "      <td>yes</td>\n",
       "      <td>3.0</td>\n",
       "      <td>3.0</td>\n",
       "      <td>Sometimes</td>\n",
       "      <td>no</td>\n",
       "      <td>2.054193</td>\n",
       "      <td>no</td>\n",
       "      <td>1.414209</td>\n",
       "      <td>0.646288</td>\n",
       "      <td>Sometimes</td>\n",
       "      <td>Public_Transportation</td>\n",
       "      <td>Obesity_Type_III</td>\n",
       "    </tr>\n",
       "    <tr>\n",
       "      <th>2109</th>\n",
       "      <td>Female</td>\n",
       "      <td>24.361936</td>\n",
       "      <td>1.739450</td>\n",
       "      <td>133.346641</td>\n",
       "      <td>yes</td>\n",
       "      <td>yes</td>\n",
       "      <td>3.0</td>\n",
       "      <td>3.0</td>\n",
       "      <td>Sometimes</td>\n",
       "      <td>no</td>\n",
       "      <td>2.852339</td>\n",
       "      <td>no</td>\n",
       "      <td>1.139107</td>\n",
       "      <td>0.586035</td>\n",
       "      <td>Sometimes</td>\n",
       "      <td>Public_Transportation</td>\n",
       "      <td>Obesity_Type_III</td>\n",
       "    </tr>\n",
       "    <tr>\n",
       "      <th>2110</th>\n",
       "      <td>Female</td>\n",
       "      <td>23.664709</td>\n",
       "      <td>1.738836</td>\n",
       "      <td>133.472641</td>\n",
       "      <td>yes</td>\n",
       "      <td>yes</td>\n",
       "      <td>3.0</td>\n",
       "      <td>3.0</td>\n",
       "      <td>Sometimes</td>\n",
       "      <td>no</td>\n",
       "      <td>2.863513</td>\n",
       "      <td>no</td>\n",
       "      <td>1.026452</td>\n",
       "      <td>0.714137</td>\n",
       "      <td>Sometimes</td>\n",
       "      <td>Public_Transportation</td>\n",
       "      <td>Obesity_Type_III</td>\n",
       "    </tr>\n",
       "  </tbody>\n",
       "</table>\n",
       "<p>2111 rows × 17 columns</p>\n",
       "</div>"
      ],
      "text/plain": [
       "      Gender        Age    Height      Weight family_history_with_overweight  \\\n",
       "0     Female  21.000000  1.620000   64.000000                            yes   \n",
       "1     Female  21.000000  1.520000   56.000000                            yes   \n",
       "2       Male  23.000000  1.800000   77.000000                            yes   \n",
       "3       Male  27.000000  1.800000   87.000000                             no   \n",
       "4       Male  22.000000  1.780000   89.800000                             no   \n",
       "...      ...        ...       ...         ...                            ...   \n",
       "2106  Female  20.976842  1.710730  131.408528                            yes   \n",
       "2107  Female  21.982942  1.748584  133.742943                            yes   \n",
       "2108  Female  22.524036  1.752206  133.689352                            yes   \n",
       "2109  Female  24.361936  1.739450  133.346641                            yes   \n",
       "2110  Female  23.664709  1.738836  133.472641                            yes   \n",
       "\n",
       "     FAVC  FCVC  NCP       CAEC SMOKE      CH2O  SCC       FAF       TUE  \\\n",
       "0      no   2.0  3.0  Sometimes    no  2.000000   no  0.000000  1.000000   \n",
       "1      no   3.0  3.0  Sometimes   yes  3.000000  yes  3.000000  0.000000   \n",
       "2      no   2.0  3.0  Sometimes    no  2.000000   no  2.000000  1.000000   \n",
       "3      no   3.0  3.0  Sometimes    no  2.000000   no  2.000000  0.000000   \n",
       "4      no   2.0  1.0  Sometimes    no  2.000000   no  0.000000  0.000000   \n",
       "...   ...   ...  ...        ...   ...       ...  ...       ...       ...   \n",
       "2106  yes   3.0  3.0  Sometimes    no  1.728139   no  1.676269  0.906247   \n",
       "2107  yes   3.0  3.0  Sometimes    no  2.005130   no  1.341390  0.599270   \n",
       "2108  yes   3.0  3.0  Sometimes    no  2.054193   no  1.414209  0.646288   \n",
       "2109  yes   3.0  3.0  Sometimes    no  2.852339   no  1.139107  0.586035   \n",
       "2110  yes   3.0  3.0  Sometimes    no  2.863513   no  1.026452  0.714137   \n",
       "\n",
       "            CALC                 MTRANS           NObeyesdad  \n",
       "0             no  Public_Transportation        Normal_Weight  \n",
       "1      Sometimes  Public_Transportation        Normal_Weight  \n",
       "2     Frequently  Public_Transportation        Normal_Weight  \n",
       "3     Frequently                Walking   Overweight_Level_I  \n",
       "4      Sometimes  Public_Transportation  Overweight_Level_II  \n",
       "...          ...                    ...                  ...  \n",
       "2106   Sometimes  Public_Transportation     Obesity_Type_III  \n",
       "2107   Sometimes  Public_Transportation     Obesity_Type_III  \n",
       "2108   Sometimes  Public_Transportation     Obesity_Type_III  \n",
       "2109   Sometimes  Public_Transportation     Obesity_Type_III  \n",
       "2110   Sometimes  Public_Transportation     Obesity_Type_III  \n",
       "\n",
       "[2111 rows x 17 columns]"
      ]
     },
     "execution_count": 11,
     "metadata": {},
     "output_type": "execute_result"
    }
   ],
   "source": [
    "df"
   ]
  },
  {
   "cell_type": "code",
   "execution_count": 12,
   "metadata": {},
   "outputs": [
    {
     "name": "stdout",
     "output_type": "stream",
     "text": [
      "Male      1068\n",
      "Female    1043\n",
      "Name: Gender, dtype: int64\n"
     ]
    },
    {
     "data": {
      "image/png": "[encoded data removed]",
      "text/plain": [
       "<Figure size 432x288 with 1 Axes>"
      ]
     },
     "metadata": {
      "needs_background": "light"
     },
     "output_type": "display_data"
    },
    {
     "name": "stdout",
     "output_type": "stream",
     "text": [
      "count    2111.000000\n",
      "mean       24.312600\n",
      "std         6.345968\n",
      "min        14.000000\n",
      "25%        19.947192\n",
      "50%        22.777890\n",
      "75%        26.000000\n",
      "max        61.000000\n",
      "Name: Age, dtype: float64\n"
     ]
    },
    {
     "data": {
      "image/png": "[encoded data removed]",
      "text/plain": [
       "<Figure size 432x288 with 1 Axes>"
      ]
     },
     "metadata": {
      "needs_background": "light"
     },
     "output_type": "display_data"
    },
    {
     "name": "stdout",
     "output_type": "stream",
     "text": [
      "count    2111.000000\n",
      "mean        1.701677\n",
      "std         0.093305\n",
      "min         1.450000\n",
      "25%         1.630000\n",
      "50%         1.700499\n",
      "75%         1.768464\n",
      "max         1.980000\n",
      "Name: Height, dtype: float64\n"
     ]
    },
    {
     "data": {
      "image/png": "[encoded data removed]",
      "text/plain": [
       "<Figure size 432x288 with 1 Axes>"
      ]
     },
     "metadata": {
      "needs_background": "light"
     },
     "output_type": "display_data"
    },
    {
     "name": "stdout",
     "output_type": "stream",
     "text": [
      "count    2111.000000\n",
      "mean       86.586058\n",
      "std        26.191172\n",
      "min        39.000000\n",
      "25%        65.473343\n",
      "50%        83.000000\n",
      "75%       107.430682\n",
      "max       173.000000\n",
      "Name: Weight, dtype: float64\n"
     ]
    },
    {
     "data": {
      "image/png": "[encoded data removed]",
      "text/plain": [
       "<Figure size 432x288 with 1 Axes>"
      ]
     },
     "metadata": {
      "needs_background": "light"
     },
     "output_type": "display_data"
    },
    {
     "name": "stdout",
     "output_type": "stream",
     "text": [
      "yes    1726\n",
      "no      385\n",
      "Name: family_history_with_overweight, dtype: int64\n"
     ]
    },
    {
     "data": {
      "image/png": "[encoded data removed]",
      "text/plain": [
       "<Figure size 432x288 with 1 Axes>"
      ]
     },
     "metadata": {
      "needs_background": "light"
     },
     "output_type": "display_data"
    },
    {
     "name": "stdout",
     "output_type": "stream",
     "text": [
      "yes    1866\n",
      "no      245\n",
      "Name: FAVC, dtype: int64\n"
     ]
    },
    {
     "data": {
      "image/png": "[encoded data removed]",
      "text/plain": [
       "<Figure size 432x288 with 1 Axes>"
      ]
     },
     "metadata": {
      "needs_background": "light"
     },
     "output_type": "display_data"
    },
    {
     "name": "stdout",
     "output_type": "stream",
     "text": [
      "count    2111.000000\n",
      "mean        2.419043\n",
      "std         0.533927\n",
      "min         1.000000\n",
      "25%         2.000000\n",
      "50%         2.385502\n",
      "75%         3.000000\n",
      "max         3.000000\n",
      "Name: FCVC, dtype: float64\n"
     ]
    },
    {
     "data": {
      "image/png": "[encoded data removed]",
      "text/plain": [
       "<Figure size 432x288 with 1 Axes>"
      ]
     },
     "metadata": {
      "needs_background": "light"
     },
     "output_type": "display_data"
    },
    {
     "name": "stdout",
     "output_type": "stream",
     "text": [
      "count    2111.000000\n",
      "mean        2.685628\n",
      "std         0.778039\n",
      "min         1.000000\n",
      "25%         2.658738\n",
      "50%         3.000000\n",
      "75%         3.000000\n",
      "max         4.000000\n",
      "Name: NCP, dtype: float64\n"
     ]
    },
    {
     "data": {
      "image/png": "[encoded data removed]",
      "text/plain": [
       "<Figure size 432x288 with 1 Axes>"
      ]
     },
     "metadata": {
      "needs_background": "light"
     },
     "output_type": "display_data"
    },
    {
     "name": "stdout",
     "output_type": "stream",
     "text": [
      "Sometimes     1765\n",
      "Frequently     242\n",
      "Always          53\n",
      "no              51\n",
      "Name: CAEC, dtype: int64\n"
     ]
    },
    {
     "data": {
      "image/png": "[encoded data removed]",
      "text/plain": [
       "<Figure size 432x288 with 1 Axes>"
      ]
     },
     "metadata": {
      "needs_background": "light"
     },
     "output_type": "display_data"
    },
    {
     "name": "stdout",
     "output_type": "stream",
     "text": [
      "no     2067\n",
      "yes      44\n",
      "Name: SMOKE, dtype: int64\n"
     ]
    },
    {
     "data": {
      "image/png": "[encoded data removed]",
      "text/plain": [
       "<Figure size 432x288 with 1 Axes>"
      ]
     },
     "metadata": {
      "needs_background": "light"
     },
     "output_type": "display_data"
    },
    {
     "name": "stdout",
     "output_type": "stream",
     "text": [
      "count    2111.000000\n",
      "mean        2.008011\n",
      "std         0.612953\n",
      "min         1.000000\n",
      "25%         1.584812\n",
      "50%         2.000000\n",
      "75%         2.477420\n",
      "max         3.000000\n",
      "Name: CH2O, dtype: float64\n"
     ]
    },
    {
     "data": {
      "image/png": "[encoded data removed]",
      "text/plain": [
       "<Figure size 432x288 with 1 Axes>"
      ]
     },
     "metadata": {
      "needs_background": "light"
     },
     "output_type": "display_data"
    },
    {
     "name": "stdout",
     "output_type": "stream",
     "text": [
      "no     2015\n",
      "yes      96\n",
      "Name: SCC, dtype: int64\n"
     ]
    },
    {
     "data": {
      "image/png": "[encoded data removed]",
      "text/plain": [
       "<Figure size 432x288 with 1 Axes>"
      ]
     },
     "metadata": {
      "needs_background": "light"
     },
     "output_type": "display_data"
    },
    {
     "name": "stdout",
     "output_type": "stream",
     "text": [
      "count    2111.000000\n",
      "mean        1.010298\n",
      "std         0.850592\n",
      "min         0.000000\n",
      "25%         0.124505\n",
      "50%         1.000000\n",
      "75%         1.666678\n",
      "max         3.000000\n",
      "Name: FAF, dtype: float64\n"
     ]
    },
    {
     "data": {
      "image/png": "[encoded data removed]",
      "text/plain": [
       "<Figure size 432x288 with 1 Axes>"
      ]
     },
     "metadata": {
      "needs_background": "light"
     },
     "output_type": "display_data"
    },
    {
     "name": "stdout",
     "output_type": "stream",
     "text": [
      "count    2111.000000\n",
      "mean        0.657866\n",
      "std         0.608927\n",
      "min         0.000000\n",
      "25%         0.000000\n",
      "50%         0.625350\n",
      "75%         1.000000\n",
      "max         2.000000\n",
      "Name: TUE, dtype: float64\n"
     ]
    },
    {
     "data": {
      "image/png": "[encoded data removed]",
      "text/plain": [
       "<Figure size 432x288 with 1 Axes>"
      ]
     },
     "metadata": {
      "needs_background": "light"
     },
     "output_type": "display_data"
    },
    {
     "name": "stdout",
     "output_type": "stream",
     "text": [
      "Sometimes     1401\n",
      "no             639\n",
      "Frequently      70\n",
      "Always           1\n",
      "Name: CALC, dtype: int64\n"
     ]
    },
    {
     "data": {
      "image/png": "[encoded data removed]",
      "text/plain": [
       "<Figure size 432x288 with 1 Axes>"
      ]
     },
     "metadata": {
      "needs_background": "light"
     },
     "output_type": "display_data"
    },
    {
     "name": "stdout",
     "output_type": "stream",
     "text": [
      "Public_Transportation    1580\n",
      "Automobile                457\n",
      "Walking                    56\n",
      "Motorbike                  11\n",
      "Bike                        7\n",
      "Name: MTRANS, dtype: int64\n"
     ]
    },
    {
     "data": {
      "image/png": "[encoded data removed]",
      "text/plain": [
       "<Figure size 432x288 with 1 Axes>"
      ]
     },
     "metadata": {
      "needs_background": "light"
     },
     "output_type": "display_data"
    },
    {
     "name": "stdout",
     "output_type": "stream",
     "text": [
      "Obesity_Type_I         351\n",
      "Obesity_Type_III       324\n",
      "Obesity_Type_II        297\n",
      "Overweight_Level_I     290\n",
      "Overweight_Level_II    290\n",
      "Normal_Weight          287\n",
      "Insufficient_Weight    272\n",
      "Name: NObeyesdad, dtype: int64\n"
     ]
    },
    {
     "data": {
      "image/png": "[encoded data removed]",
      "text/plain": [
       "<Figure size 432x288 with 1 Axes>"
      ]
     },
     "metadata": {
      "needs_background": "light"
     },
     "output_type": "display_data"
    }
   ],
   "source": [
    "def descount(df,threshold):\n",
    "    \"\"\"\n",
    "    Determine whether each column contains continuous or categorical data by considering whether it\n",
    "    contains number of unique values greater than threshold. If continuous, use describe() and create\n",
    "    histogram. If categorical, use value_counts() and create bar plot.\n",
    "    \"\"\"\n",
    "    for column in df:\n",
    "        col = df[column]\n",
    "        uniqueval = col.nunique()\n",
    "        if uniqueval>threshold:\n",
    "            print(col.describe())\n",
    "            col.plot.hist(bins = min(uniqueval,10))\n",
    "            plt.xlabel(column)\n",
    "            plt.ylabel('count')\n",
    "            plt.show()\n",
    "        else:\n",
    "            print(col.value_counts())\n",
    "            pd.value_counts(col).plot.bar()\n",
    "            plt.xlabel(column)\n",
    "            plt.ylabel('count')\n",
    "            plt.show()\n",
    "descount(df,10)"
   ]
  },
  {
   "cell_type": "code",
   "execution_count": 13,
   "metadata": {},
   "outputs": [
    {
     "data": {
      "text/plain": [
       "Text(0, 0.5, 'counts')"
      ]
     },
     "execution_count": 13,
     "metadata": {},
     "output_type": "execute_result"
    },
    {
     "data": {
      "image/png": "[encoded data removed]",
      "text/plain": [
       "<Figure size 432x288 with 1 Axes>"
      ]
     },
     "metadata": {
      "needs_background": "light"
     },
     "output_type": "display_data"
    }
   ],
   "source": [
    "df[\"Weight\"].plot.hist(15)\n",
    "plt.xlabel(\"weight(kg)\")\n",
    "plt.ylabel(\"counts\")"
   ]
  },
  {
   "cell_type": "code",
   "execution_count": 55,
   "metadata": {},
   "outputs": [
    {
     "data": {
      "image/png": "[encoded data removed]",
      "text/plain": [
       "<Figure size 432x288 with 1 Axes>"
      ]
     },
     "metadata": {
      "needs_background": "light"
     },
     "output_type": "display_data"
    }
   ],
   "source": [
    "count_matrix = df.groupby(['NObeyesdad', 'family_history_with_overweight']).size().unstack()\n",
    "# count_matrix_norm = count_matrix.div(count_matrix.sum(axis=1),axis=0)\n",
    "count_matrix.plot(kind='bar', stacked=True)\n",
    "plt.title('Obesity levels vs Family Overweight History')\n",
    "plt.xlabel('obesity Level.')\n",
    "plt.ylabel('counts')\n",
    "plt.legend(loc=1)\n",
    "plt.show()"
   ]
  },
  {
   "cell_type": "code",
   "execution_count": 61,
   "metadata": {},
   "outputs": [
    {
     "ename": "KeyError",
     "evalue": "('Age', 'TUE')",
     "output_type": "error",
     "traceback": [
      "\u001b[1;31m---------------------------------------------------------------------------\u001b[0m",
      "\u001b[1;31mKeyError\u001b[0m                                  Traceback (most recent call last)",
      "\u001b[1;32m~\\AppData\\Roaming\\Python\\Python38\\site-packages\\pandas\\core\\indexes\\base.py\u001b[0m in \u001b[0;36mget_loc\u001b[1;34m(self, key, method, tolerance)\u001b[0m\n\u001b[0;32m   2890\u001b[0m             \u001b[1;32mtry\u001b[0m\u001b[1;33m:\u001b[0m\u001b[1;33m\u001b[0m\u001b[1;33m\u001b[0m\u001b[0m\n\u001b[1;32m-> 2891\u001b[1;33m                 \u001b[1;32mreturn\u001b[0m \u001b[0mself\u001b[0m\u001b[1;33m.\u001b[0m\u001b[0m_engine\u001b[0m\u001b[1;33m.\u001b[0m\u001b[0mget_loc\u001b[0m\u001b[1;33m(\u001b[0m\u001b[0mcasted_key\u001b[0m\u001b[1;33m)\u001b[0m\u001b[1;33m\u001b[0m\u001b[1;33m\u001b[0m\u001b[0m\n\u001b[0m\u001b[0;32m   2892\u001b[0m             \u001b[1;32mexcept\u001b[0m \u001b[0mKeyError\u001b[0m \u001b[1;32mas\u001b[0m \u001b[0merr\u001b[0m\u001b[1;33m:\u001b[0m\u001b[1;33m\u001b[0m\u001b[1;33m\u001b[0m\u001b[0m\n",
      "\u001b[1;32mpandas\\_libs\\index.pyx\u001b[0m in \u001b[0;36mpandas._libs.index.IndexEngine.get_loc\u001b[1;34m()\u001b[0m\n",
      "\u001b[1;32mpandas\\_libs\\index.pyx\u001b[0m in \u001b[0;36mpandas._libs.index.IndexEngine.get_loc\u001b[1;34m()\u001b[0m\n",
      "\u001b[1;32mpandas\\_libs\\hashtable_class_helper.pxi\u001b[0m in \u001b[0;36mpandas._libs.hashtable.PyObjectHashTable.get_item\u001b[1;34m()\u001b[0m\n",
      "\u001b[1;32mpandas\\_libs\\hashtable_class_helper.pxi\u001b[0m in \u001b[0;36mpandas._libs.hashtable.PyObjectHashTable.get_item\u001b[1;34m()\u001b[0m\n",
      "\u001b[1;31mKeyError\u001b[0m: ('Age', 'TUE')",
      "\nThe above exception was the direct cause of the following exception:\n",
      "\u001b[1;31mKeyError\u001b[0m                                  Traceback (most recent call last)",
      "\u001b[1;32m<ipython-input-61-1ec99ec59416>\u001b[0m in \u001b[0;36m<module>\u001b[1;34m\u001b[0m\n\u001b[0;32m      2\u001b[0m \u001b[1;31m# plt.xlabel(\"Age(years).\")\u001b[0m\u001b[1;33m\u001b[0m\u001b[1;33m\u001b[0m\u001b[1;33m\u001b[0m\u001b[0m\n\u001b[0;32m      3\u001b[0m \u001b[1;31m# plt.ylabel(\"Time using technology devices\")\u001b[0m\u001b[1;33m\u001b[0m\u001b[1;33m\u001b[0m\u001b[1;33m\u001b[0m\u001b[0m\n\u001b[1;32m----> 4\u001b[1;33m \u001b[0msns\u001b[0m\u001b[1;33m.\u001b[0m\u001b[0mheatmap\u001b[0m\u001b[1;33m(\u001b[0m\u001b[0mdf\u001b[0m\u001b[1;33m[\u001b[0m\u001b[1;34m'Age'\u001b[0m\u001b[1;33m,\u001b[0m\u001b[1;34m'TUE'\u001b[0m\u001b[1;33m]\u001b[0m\u001b[1;33m)\u001b[0m\u001b[1;33m\u001b[0m\u001b[1;33m\u001b[0m\u001b[0m\n\u001b[0m",
      "\u001b[1;32m~\\AppData\\Roaming\\Python\\Python38\\site-packages\\pandas\\core\\frame.py\u001b[0m in \u001b[0;36m__getitem__\u001b[1;34m(self, key)\u001b[0m\n\u001b[0;32m   2900\u001b[0m             \u001b[1;32mif\u001b[0m \u001b[0mself\u001b[0m\u001b[1;33m.\u001b[0m\u001b[0mcolumns\u001b[0m\u001b[1;33m.\u001b[0m\u001b[0mnlevels\u001b[0m \u001b[1;33m>\u001b[0m \u001b[1;36m1\u001b[0m\u001b[1;33m:\u001b[0m\u001b[1;33m\u001b[0m\u001b[1;33m\u001b[0m\u001b[0m\n\u001b[0;32m   2901\u001b[0m                 \u001b[1;32mreturn\u001b[0m \u001b[0mself\u001b[0m\u001b[1;33m.\u001b[0m\u001b[0m_getitem_multilevel\u001b[0m\u001b[1;33m(\u001b[0m\u001b[0mkey\u001b[0m\u001b[1;33m)\u001b[0m\u001b[1;33m\u001b[0m\u001b[1;33m\u001b[0m\u001b[0m\n\u001b[1;32m-> 2902\u001b[1;33m             \u001b[0mindexer\u001b[0m \u001b[1;33m=\u001b[0m \u001b[0mself\u001b[0m\u001b[1;33m.\u001b[0m\u001b[0mcolumns\u001b[0m\u001b[1;33m.\u001b[0m\u001b[0mget_loc\u001b[0m\u001b[1;33m(\u001b[0m\u001b[0mkey\u001b[0m\u001b[1;33m)\u001b[0m\u001b[1;33m\u001b[0m\u001b[1;33m\u001b[0m\u001b[0m\n\u001b[0m\u001b[0;32m   2903\u001b[0m             \u001b[1;32mif\u001b[0m \u001b[0mis_integer\u001b[0m\u001b[1;33m(\u001b[0m\u001b[0mindexer\u001b[0m\u001b[1;33m)\u001b[0m\u001b[1;33m:\u001b[0m\u001b[1;33m\u001b[0m\u001b[1;33m\u001b[0m\u001b[0m\n\u001b[0;32m   2904\u001b[0m                 \u001b[0mindexer\u001b[0m \u001b[1;33m=\u001b[0m \u001b[1;33m[\u001b[0m\u001b[0mindexer\u001b[0m\u001b[1;33m]\u001b[0m\u001b[1;33m\u001b[0m\u001b[1;33m\u001b[0m\u001b[0m\n",
      "\u001b[1;32m~\\AppData\\Roaming\\Python\\Python38\\site-packages\\pandas\\core\\indexes\\base.py\u001b[0m in \u001b[0;36mget_loc\u001b[1;34m(self, key, method, tolerance)\u001b[0m\n\u001b[0;32m   2891\u001b[0m                 \u001b[1;32mreturn\u001b[0m \u001b[0mself\u001b[0m\u001b[1;33m.\u001b[0m\u001b[0m_engine\u001b[0m\u001b[1;33m.\u001b[0m\u001b[0mget_loc\u001b[0m\u001b[1;33m(\u001b[0m\u001b[0mcasted_key\u001b[0m\u001b[1;33m)\u001b[0m\u001b[1;33m\u001b[0m\u001b[1;33m\u001b[0m\u001b[0m\n\u001b[0;32m   2892\u001b[0m             \u001b[1;32mexcept\u001b[0m \u001b[0mKeyError\u001b[0m \u001b[1;32mas\u001b[0m \u001b[0merr\u001b[0m\u001b[1;33m:\u001b[0m\u001b[1;33m\u001b[0m\u001b[1;33m\u001b[0m\u001b[0m\n\u001b[1;32m-> 2893\u001b[1;33m                 \u001b[1;32mraise\u001b[0m \u001b[0mKeyError\u001b[0m\u001b[1;33m(\u001b[0m\u001b[0mkey\u001b[0m\u001b[1;33m)\u001b[0m \u001b[1;32mfrom\u001b[0m \u001b[0merr\u001b[0m\u001b[1;33m\u001b[0m\u001b[1;33m\u001b[0m\u001b[0m\n\u001b[0m\u001b[0;32m   2894\u001b[0m \u001b[1;33m\u001b[0m\u001b[0m\n\u001b[0;32m   2895\u001b[0m         \u001b[1;32mif\u001b[0m \u001b[0mtolerance\u001b[0m \u001b[1;32mis\u001b[0m \u001b[1;32mnot\u001b[0m \u001b[1;32mNone\u001b[0m\u001b[1;33m:\u001b[0m\u001b[1;33m\u001b[0m\u001b[1;33m\u001b[0m\u001b[0m\n",
      "\u001b[1;31mKeyError\u001b[0m: ('Age', 'TUE')"
     ]
    }
   ],
   "source": [
    "# df.plot.scatter('Age','TUE',s=10,alpha=1)\n",
    "# plt.xlabel(\"Age(years).\")\n",
    "# plt.ylabel(\"Time using technology devices\")\n",
    "sns.heatmap(df['Age','TUE'])"
   ]
  },
  {
   "cell_type": "code",
   "execution_count": 54,
   "metadata": {},
   "outputs": [
    {
     "data": {
      "image/png": "[encoded data removed]",
      "text/plain": [
       "<Figure size 432x288 with 1 Axes>"
      ]
     },
     "metadata": {
      "needs_background": "light"
     },
     "output_type": "display_data"
    }
   ],
   "source": [
    "frequency = ['no','Sometimes','Frequently','Always']\n",
    "dataset = [df[df['CALC'] == frequency[0]]['CH2O'].values,\n",
    "           df[df['CALC'] == frequency[1]]['CH2O'].values,\n",
    "           df[df['CALC'] == frequency[2]]['CH2O'].values,\n",
    "           df[df['CALC'] == frequency[3]]['CH2O'].values]\n",
    "\n",
    "plt.violinplot(dataset = dataset)\n",
    "plt.xticks([1,2,3,4],['No',frequency[1],frequency[2],frequency[3]])\n",
    "plt.xlabel('Frequency of consumption of alcohol')\n",
    "plt.ylabel('Consumption of water')\n",
    "plt.show()"
   ]
  },
  {
   "cell_type": "code",
   "execution_count": 40,
   "metadata": {},
   "outputs": [
    {
     "name": "stdout",
     "output_type": "stream",
     "text": [
      "Obesity_Type_I         273\n",
      "Obesity_Type_III       261\n",
      "Overweight_Level_II    240\n",
      "Obesity_Type_II        239\n",
      "Overweight_Level_I     234\n",
      "Normal_Weight          225\n",
      "Insufficient_Weight    216\n",
      "Name: NObeyesdad, dtype: int64\n",
      "Obesity_Type_I         273\n",
      "Obesity_Type_III       261\n",
      "Overweight_Level_II    240\n",
      "Obesity_Type_II        239\n",
      "Overweight_Level_I     234\n",
      "Normal_Weight          225\n",
      "Insufficient_Weight    216\n",
      "Name: NObeyesdad, dtype: int64\n",
      "Obesity_Type_I         273\n",
      "Obesity_Type_III       261\n",
      "Overweight_Level_II    240\n",
      "Obesity_Type_II        239\n",
      "Overweight_Level_I     234\n",
      "Normal_Weight          225\n",
      "Insufficient_Weight    216\n",
      "Name: NObeyesdad, dtype: int64\n"
     ]
    }
   ],
   "source": [
    "rs = 42\n",
    "X = df.loc[:, df.columns != 'NObeyesdad']\n",
    "y = df['NObeyesdad']\n",
    "X_other, X_test, y_other, y_test = train_test_split(X,y,test_size = 0.2, stratify = X['MTRANS'],random_state=rs)\n",
    "# kf = StratifiedKFold(n_splits=5,shuffle=True,random_state=rs)\n",
    "kf = StratifiedKFold(n_splits=3,shuffle=True,random_state=rs)\n",
    "for train_idx, val_index in kf.split(X_other, y_other):\n",
    "    X_train = X_other.iloc[train_idx]\n",
    "    y_train = y_other.iloc[train_idx]\n",
    "    X_val = X_other.iloc[val_index]\n",
    "    y_val = y_other.iloc[val_index]\n",
    "    print(y_other.value_counts(normalize=False))"
   ]
  },
  {
   "cell_type": "code",
   "execution_count": 18,
   "metadata": {
    "scrolled": true
   },
   "outputs": [
    {
     "data": {
      "text/html": [
       "<div>\n",
       "<style scoped>\n",
       "    .dataframe tbody tr th:only-of-type {\n",
       "        vertical-align: middle;\n",
       "    }\n",
       "\n",
       "    .dataframe tbody tr th {\n",
       "        vertical-align: top;\n",
       "    }\n",
       "\n",
       "    .dataframe thead th {\n",
       "        text-align: right;\n",
       "    }\n",
       "</style>\n",
       "<table border=\"1\" class=\"dataframe\">\n",
       "  <thead>\n",
       "    <tr style=\"text-align: right;\">\n",
       "      <th></th>\n",
       "      <th>Gender</th>\n",
       "      <th>Age</th>\n",
       "      <th>Height</th>\n",
       "      <th>Weight</th>\n",
       "      <th>family_history_with_overweight</th>\n",
       "      <th>FAVC</th>\n",
       "      <th>FCVC</th>\n",
       "      <th>NCP</th>\n",
       "      <th>CAEC</th>\n",
       "      <th>SMOKE</th>\n",
       "      <th>CH2O</th>\n",
       "      <th>SCC</th>\n",
       "      <th>FAF</th>\n",
       "      <th>TUE</th>\n",
       "      <th>CALC</th>\n",
       "      <th>MTRANS</th>\n",
       "      <th>NObeyesdad</th>\n",
       "    </tr>\n",
       "  </thead>\n",
       "  <tbody>\n",
       "    <tr>\n",
       "      <th>0</th>\n",
       "      <td>Female</td>\n",
       "      <td>21.000000</td>\n",
       "      <td>1.620000</td>\n",
       "      <td>64.000000</td>\n",
       "      <td>yes</td>\n",
       "      <td>no</td>\n",
       "      <td>2.0</td>\n",
       "      <td>3.0</td>\n",
       "      <td>Sometimes</td>\n",
       "      <td>no</td>\n",
       "      <td>2.000000</td>\n",
       "      <td>no</td>\n",
       "      <td>0.000000</td>\n",
       "      <td>1.000000</td>\n",
       "      <td>no</td>\n",
       "      <td>Public_Transportation</td>\n",
       "      <td>Normal_Weight</td>\n",
       "    </tr>\n",
       "    <tr>\n",
       "      <th>1</th>\n",
       "      <td>Female</td>\n",
       "      <td>21.000000</td>\n",
       "      <td>1.520000</td>\n",
       "      <td>56.000000</td>\n",
       "      <td>yes</td>\n",
       "      <td>no</td>\n",
       "      <td>3.0</td>\n",
       "      <td>3.0</td>\n",
       "      <td>Sometimes</td>\n",
       "      <td>yes</td>\n",
       "      <td>3.000000</td>\n",
       "      <td>yes</td>\n",
       "      <td>3.000000</td>\n",
       "      <td>0.000000</td>\n",
       "      <td>Sometimes</td>\n",
       "      <td>Public_Transportation</td>\n",
       "      <td>Normal_Weight</td>\n",
       "    </tr>\n",
       "    <tr>\n",
       "      <th>2</th>\n",
       "      <td>Male</td>\n",
       "      <td>23.000000</td>\n",
       "      <td>1.800000</td>\n",
       "      <td>77.000000</td>\n",
       "      <td>yes</td>\n",
       "      <td>no</td>\n",
       "      <td>2.0</td>\n",
       "      <td>3.0</td>\n",
       "      <td>Sometimes</td>\n",
       "      <td>no</td>\n",
       "      <td>2.000000</td>\n",
       "      <td>no</td>\n",
       "      <td>2.000000</td>\n",
       "      <td>1.000000</td>\n",
       "      <td>Frequently</td>\n",
       "      <td>Public_Transportation</td>\n",
       "      <td>Normal_Weight</td>\n",
       "    </tr>\n",
       "    <tr>\n",
       "      <th>3</th>\n",
       "      <td>Male</td>\n",
       "      <td>27.000000</td>\n",
       "      <td>1.800000</td>\n",
       "      <td>87.000000</td>\n",
       "      <td>no</td>\n",
       "      <td>no</td>\n",
       "      <td>3.0</td>\n",
       "      <td>3.0</td>\n",
       "      <td>Sometimes</td>\n",
       "      <td>no</td>\n",
       "      <td>2.000000</td>\n",
       "      <td>no</td>\n",
       "      <td>2.000000</td>\n",
       "      <td>0.000000</td>\n",
       "      <td>Frequently</td>\n",
       "      <td>Walking</td>\n",
       "      <td>Overweight_Level_I</td>\n",
       "    </tr>\n",
       "    <tr>\n",
       "      <th>4</th>\n",
       "      <td>Male</td>\n",
       "      <td>22.000000</td>\n",
       "      <td>1.780000</td>\n",
       "      <td>89.800000</td>\n",
       "      <td>no</td>\n",
       "      <td>no</td>\n",
       "      <td>2.0</td>\n",
       "      <td>1.0</td>\n",
       "      <td>Sometimes</td>\n",
       "      <td>no</td>\n",
       "      <td>2.000000</td>\n",
       "      <td>no</td>\n",
       "      <td>0.000000</td>\n",
       "      <td>0.000000</td>\n",
       "      <td>Sometimes</td>\n",
       "      <td>Public_Transportation</td>\n",
       "      <td>Overweight_Level_II</td>\n",
       "    </tr>\n",
       "    <tr>\n",
       "      <th>...</th>\n",
       "      <td>...</td>\n",
       "      <td>...</td>\n",
       "      <td>...</td>\n",
       "      <td>...</td>\n",
       "      <td>...</td>\n",
       "      <td>...</td>\n",
       "      <td>...</td>\n",
       "      <td>...</td>\n",
       "      <td>...</td>\n",
       "      <td>...</td>\n",
       "      <td>...</td>\n",
       "      <td>...</td>\n",
       "      <td>...</td>\n",
       "      <td>...</td>\n",
       "      <td>...</td>\n",
       "      <td>...</td>\n",
       "      <td>...</td>\n",
       "    </tr>\n",
       "    <tr>\n",
       "      <th>2106</th>\n",
       "      <td>Female</td>\n",
       "      <td>20.976842</td>\n",
       "      <td>1.710730</td>\n",
       "      <td>131.408528</td>\n",
       "      <td>yes</td>\n",
       "      <td>yes</td>\n",
       "      <td>3.0</td>\n",
       "      <td>3.0</td>\n",
       "      <td>Sometimes</td>\n",
       "      <td>no</td>\n",
       "      <td>1.728139</td>\n",
       "      <td>no</td>\n",
       "      <td>1.676269</td>\n",
       "      <td>0.906247</td>\n",
       "      <td>Sometimes</td>\n",
       "      <td>Public_Transportation</td>\n",
       "      <td>Obesity_Type_III</td>\n",
       "    </tr>\n",
       "    <tr>\n",
       "      <th>2107</th>\n",
       "      <td>Female</td>\n",
       "      <td>21.982942</td>\n",
       "      <td>1.748584</td>\n",
       "      <td>133.742943</td>\n",
       "      <td>yes</td>\n",
       "      <td>yes</td>\n",
       "      <td>3.0</td>\n",
       "      <td>3.0</td>\n",
       "      <td>Sometimes</td>\n",
       "      <td>no</td>\n",
       "      <td>2.005130</td>\n",
       "      <td>no</td>\n",
       "      <td>1.341390</td>\n",
       "      <td>0.599270</td>\n",
       "      <td>Sometimes</td>\n",
       "      <td>Public_Transportation</td>\n",
       "      <td>Obesity_Type_III</td>\n",
       "    </tr>\n",
       "    <tr>\n",
       "      <th>2108</th>\n",
       "      <td>Female</td>\n",
       "      <td>22.524036</td>\n",
       "      <td>1.752206</td>\n",
       "      <td>133.689352</td>\n",
       "      <td>yes</td>\n",
       "      <td>yes</td>\n",
       "      <td>3.0</td>\n",
       "      <td>3.0</td>\n",
       "      <td>Sometimes</td>\n",
       "      <td>no</td>\n",
       "      <td>2.054193</td>\n",
       "      <td>no</td>\n",
       "      <td>1.414209</td>\n",
       "      <td>0.646288</td>\n",
       "      <td>Sometimes</td>\n",
       "      <td>Public_Transportation</td>\n",
       "      <td>Obesity_Type_III</td>\n",
       "    </tr>\n",
       "    <tr>\n",
       "      <th>2109</th>\n",
       "      <td>Female</td>\n",
       "      <td>24.361936</td>\n",
       "      <td>1.739450</td>\n",
       "      <td>133.346641</td>\n",
       "      <td>yes</td>\n",
       "      <td>yes</td>\n",
       "      <td>3.0</td>\n",
       "      <td>3.0</td>\n",
       "      <td>Sometimes</td>\n",
       "      <td>no</td>\n",
       "      <td>2.852339</td>\n",
       "      <td>no</td>\n",
       "      <td>1.139107</td>\n",
       "      <td>0.586035</td>\n",
       "      <td>Sometimes</td>\n",
       "      <td>Public_Transportation</td>\n",
       "      <td>Obesity_Type_III</td>\n",
       "    </tr>\n",
       "    <tr>\n",
       "      <th>2110</th>\n",
       "      <td>Female</td>\n",
       "      <td>23.664709</td>\n",
       "      <td>1.738836</td>\n",
       "      <td>133.472641</td>\n",
       "      <td>yes</td>\n",
       "      <td>yes</td>\n",
       "      <td>3.0</td>\n",
       "      <td>3.0</td>\n",
       "      <td>Sometimes</td>\n",
       "      <td>no</td>\n",
       "      <td>2.863513</td>\n",
       "      <td>no</td>\n",
       "      <td>1.026452</td>\n",
       "      <td>0.714137</td>\n",
       "      <td>Sometimes</td>\n",
       "      <td>Public_Transportation</td>\n",
       "      <td>Obesity_Type_III</td>\n",
       "    </tr>\n",
       "  </tbody>\n",
       "</table>\n",
       "<p>2111 rows × 17 columns</p>\n",
       "</div>"
      ],
      "text/plain": [
       "      Gender        Age    Height      Weight family_history_with_overweight  \\\n",
       "0     Female  21.000000  1.620000   64.000000                            yes   \n",
       "1     Female  21.000000  1.520000   56.000000                            yes   \n",
       "2       Male  23.000000  1.800000   77.000000                            yes   \n",
       "3       Male  27.000000  1.800000   87.000000                             no   \n",
       "4       Male  22.000000  1.780000   89.800000                             no   \n",
       "...      ...        ...       ...         ...                            ...   \n",
       "2106  Female  20.976842  1.710730  131.408528                            yes   \n",
       "2107  Female  21.982942  1.748584  133.742943                            yes   \n",
       "2108  Female  22.524036  1.752206  133.689352                            yes   \n",
       "2109  Female  24.361936  1.739450  133.346641                            yes   \n",
       "2110  Female  23.664709  1.738836  133.472641                            yes   \n",
       "\n",
       "     FAVC  FCVC  NCP       CAEC SMOKE      CH2O  SCC       FAF       TUE  \\\n",
       "0      no   2.0  3.0  Sometimes    no  2.000000   no  0.000000  1.000000   \n",
       "1      no   3.0  3.0  Sometimes   yes  3.000000  yes  3.000000  0.000000   \n",
       "2      no   2.0  3.0  Sometimes    no  2.000000   no  2.000000  1.000000   \n",
       "3      no   3.0  3.0  Sometimes    no  2.000000   no  2.000000  0.000000   \n",
       "4      no   2.0  1.0  Sometimes    no  2.000000   no  0.000000  0.000000   \n",
       "...   ...   ...  ...        ...   ...       ...  ...       ...       ...   \n",
       "2106  yes   3.0  3.0  Sometimes    no  1.728139   no  1.676269  0.906247   \n",
       "2107  yes   3.0  3.0  Sometimes    no  2.005130   no  1.341390  0.599270   \n",
       "2108  yes   3.0  3.0  Sometimes    no  2.054193   no  1.414209  0.646288   \n",
       "2109  yes   3.0  3.0  Sometimes    no  2.852339   no  1.139107  0.586035   \n",
       "2110  yes   3.0  3.0  Sometimes    no  2.863513   no  1.026452  0.714137   \n",
       "\n",
       "            CALC                 MTRANS           NObeyesdad  \n",
       "0             no  Public_Transportation        Normal_Weight  \n",
       "1      Sometimes  Public_Transportation        Normal_Weight  \n",
       "2     Frequently  Public_Transportation        Normal_Weight  \n",
       "3     Frequently                Walking   Overweight_Level_I  \n",
       "4      Sometimes  Public_Transportation  Overweight_Level_II  \n",
       "...          ...                    ...                  ...  \n",
       "2106   Sometimes  Public_Transportation     Obesity_Type_III  \n",
       "2107   Sometimes  Public_Transportation     Obesity_Type_III  \n",
       "2108   Sometimes  Public_Transportation     Obesity_Type_III  \n",
       "2109   Sometimes  Public_Transportation     Obesity_Type_III  \n",
       "2110   Sometimes  Public_Transportation     Obesity_Type_III  \n",
       "\n",
       "[2111 rows x 17 columns]"
      ]
     },
     "execution_count": 18,
     "metadata": {},
     "output_type": "execute_result"
    }
   ],
   "source": [
    "df"
   ]
  },
  {
   "cell_type": "code",
   "execution_count": 45,
   "metadata": {},
   "outputs": [
    {
     "name": "stdout",
     "output_type": "stream",
     "text": [
      "['Female' 'Male']\n",
      "[21.       23.       27.       ... 22.524036 24.361936 23.664709]\n",
      "[1.62     1.52     1.8      ... 1.752206 1.73945  1.738836]\n",
      "[ 64.        56.        77.       ... 133.689352 133.346641 133.472641]\n",
      "['yes' 'no']\n",
      "['no' 'yes']\n",
      "[2.       3.       1.       2.450218 2.880161 2.00876  2.596579 2.591439\n",
      " 2.392665 1.123939 2.027574 2.658112 2.88626  2.714447 2.750715 1.4925\n",
      " 2.205439 2.059138 2.310423 2.823179 2.052932 2.596364 2.767731 2.815157\n",
      " 2.737762 2.568063 2.524428 2.971574 1.0816   1.270448 1.344854 2.959658\n",
      " 2.725282 2.844607 2.44004  2.432302 2.592247 2.449267 2.929889 2.015258\n",
      " 1.031149 1.592183 1.21498  1.522001 2.703436 2.362918 2.14084  2.5596\n",
      " 2.336044 1.813234 2.724285 2.71897  1.133844 1.757466 2.979383 2.204914\n",
      " 2.927218 2.88853  2.890535 2.530066 2.241606 1.003566 2.652779 2.897899\n",
      " 2.483979 2.945967 2.478891 2.784464 1.005578 2.938031 2.842102 1.889199\n",
      " 2.943749 2.33998  1.950742 2.277436 2.371338 2.984425 2.977018 2.663421\n",
      " 2.753752 2.318355 2.594653 2.886157 2.967853 2.619835 1.053534 2.530233\n",
      " 2.8813   2.824559 2.762325 2.070964 2.68601  2.794197 2.720701 2.880792\n",
      " 2.674431 2.55996  1.212908 1.140615 2.562409 2.004146 2.690754 2.051283\n",
      " 2.19005  2.21498  2.91548  2.708965 2.853513 2.580872 2.508835 2.896562\n",
      " 2.911877 2.910733 2.966126 2.613249 2.627031 2.919751 2.494451 1.69427\n",
      " 1.601236 1.204855 1.052699 2.910345 2.866383 2.913486 2.432886 2.883745\n",
      " 2.707666 2.919584 2.969205 2.486189 1.642241 1.567101 1.036414 1.649974\n",
      " 1.118436 2.673638 2.120185 2.34222  2.86099  2.559571 2.424977 1.786841\n",
      " 1.303878 1.889883 2.984004 2.749268 1.202075 1.871213 2.341133 1.450218\n",
      " 1.206276 2.81646  1.758394 2.577427 2.052152 2.954996 2.555401 2.108711\n",
      " 2.915279 1.570089 1.94313  2.903545 1.75375  2.543563 2.39728  2.37464\n",
      " 2.278644 1.620845 2.061952 2.838969 2.652958 1.27785  1.729824 1.452524\n",
      " 2.303367 2.948425 2.291846 1.906194 1.834155 2.048582 2.948248 2.869436\n",
      " 2.293705 2.510583 2.366949 2.615788 2.217267 2.801514 2.188722 2.971351\n",
      " 2.086093 1.901611 1.977298 2.446872 2.839048 2.21232  2.427689 2.357496\n",
      " 1.078529 1.064162 1.993101 2.620963 2.95118  2.021446 2.000466 2.5621\n",
      " 2.96008  2.53915  2.244142 2.253371 2.851664 1.31415  1.321028 2.253998\n",
      " 2.778079 2.838037 2.814453 2.013782 2.459976 2.643183 2.22399  2.104105\n",
      " 1.972545 2.286481 2.971588 2.872121 2.109162 2.178889 1.142468 2.047069\n",
      " 2.843709 2.416044 2.146598 1.766849 1.188089 1.910176 2.956671 2.002796\n",
      " 2.288604 2.277077 2.138334 2.029634 2.048216 2.8557   2.995599 2.987148\n",
      " 1.887951 2.786008 2.342323 1.874935 2.213135 2.273548 2.780699 1.687569\n",
      " 1.989905 1.947405 2.162519 2.923916 2.99448  2.507841 1.836554 1.773265\n",
      " 2.388168 2.286146 2.487167 2.185938 2.206399 1.952987 2.908757 2.628791\n",
      " 2.749629 1.595746 2.885178 2.372494 2.153639 2.793561 2.992329 2.927409\n",
      " 2.706134 2.010684 2.300408 2.119643 2.901924 2.451009 2.754646 2.417635\n",
      " 2.512719 1.771693 1.57223  2.661556 2.097373 2.061461 1.317729 1.882235\n",
      " 2.951591 2.067817 2.54527  2.694281 2.821977 2.252472 2.033745 2.595128\n",
      " 2.759286 1.925064 2.846981 2.650629 2.631565 2.522399 2.784471 1.650505\n",
      " 1.961347 2.133955 2.684528 2.265973 1.306844 2.258795 2.689929 2.712747\n",
      " 2.353603 2.598051 1.718156 2.795086 2.030256 2.493448 2.442536 2.003951\n",
      " 1.34138  2.607335 2.061384 2.696381 1.116068 2.116432 2.031246 2.884212\n",
      " 2.444599 2.976975 2.766036 1.096455 2.129969 2.019674 2.735297 1.588782\n",
      " 2.01054  2.689577 2.413156 2.923433 2.882522 1.973499 2.156065 2.992205\n",
      " 2.944287 1.780746 2.164062 2.247704 2.011656 2.03414  2.746408 2.1239\n",
      " 2.332074 2.748243 2.303656 1.904732 1.979944 2.407817 2.734314 2.784383\n",
      " 2.009952 2.008656 1.122127 1.963965 2.319776 1.899116 2.042762 2.129668\n",
      " 2.182401 2.802696 2.492758 2.733129 2.294067 2.315932 2.802128 2.79606\n",
      " 2.086898 2.333503 1.653081 2.535315 2.765769 2.215464 2.63165  2.942154\n",
      " 2.716909 1.83746  1.936479 2.045027 2.760607 2.09449  2.907062 2.399531\n",
      " 1.521604 2.501683 2.76802  2.742796 2.325623 2.076689 2.271306 2.33361\n",
      " 2.13683  2.909853 2.490507 1.063449 2.699282 2.4277   2.87599  2.177243\n",
      " 2.846452 2.19011  2.069267 1.362441 2.09663  2.928234 2.496455 1.70825\n",
      " 2.262171 2.740633 1.081585 2.587789 2.252653 2.036613 2.609123 1.036159\n",
      " 1.851262 2.501236 2.031185 2.014194 2.028225 2.037585 1.853314 1.00876\n",
      " 2.103335 2.060922 2.058687 2.533605 2.457547 2.983851 2.061969 2.450784\n",
      " 2.972426 2.467002 2.934671 2.043359 2.787589 2.150054 2.977585 2.274491\n",
      " 1.557287 2.152264 2.08841  2.180047 1.826885 1.754401 1.524428 1.164062\n",
      " 2.123159 2.259679 2.044326 2.843456 2.864776 2.871137 2.282803 2.020502\n",
      " 2.020785 2.737149 1.899793 2.274164 1.897796 2.85916  2.340405 2.921576\n",
      " 2.92711  2.805533 2.902469 2.845961 2.252698 2.02091  2.108163 1.518966\n",
      " 2.260543 2.522183 2.186322 2.76632  2.071622 1.918251 1.967061 2.964419\n",
      " 2.640801 2.870152 2.482575 2.290095 2.074843 2.14128  2.334474 2.693859\n",
      " 2.607747 2.66889  2.921225 1.492834 1.220024 2.667676 2.569075 2.949242\n",
      " 2.104772 2.871768 2.540949 2.222282 2.04516  2.094184 1.123672 2.049112\n",
      " 1.880534 1.203754 2.73691  2.736628 2.121909 2.642744 2.387426 1.996638\n",
      " 2.107854 2.253707 2.393837 2.348745 2.312825 2.490776 2.078082 2.805512\n",
      " 1.276858 2.396265 2.663866 2.685484 2.055209 2.025479 2.002564 2.385502\n",
      " 2.465575 2.818502 2.081238 1.368978 1.712848 1.3307   1.961069 2.976509\n",
      " 2.319648 1.261288 2.76533  2.317734 1.588114 2.549782 2.206276 2.18354\n",
      " 2.962415 1.99124  2.408561 2.758394 2.956297 1.369529 1.392665 2.630401\n",
      " 2.869778 1.868212 1.108663 2.907744 2.95801  2.197261 2.048962 2.139196\n",
      " 2.72989  1.994679 2.403421 2.964319 1.617093 1.631144 2.317459 2.501224\n",
      " 2.983042 2.323351 1.428289 1.992889 1.562804 1.794825 2.305349 2.576449\n",
      " 2.754645 2.633855 2.200588 2.499108 2.05687  2.247795 2.239634 2.09283\n",
      " 2.9673   2.225731 2.178308 2.065752 2.263245 2.443538 2.744994 2.630137\n",
      " 2.113843 2.821727 2.312528 2.938801 2.050619 1.457758 2.19331  2.028571\n",
      " 1.455602 2.177896 2.252382 2.668949 2.723953 2.736298 2.722161 2.871016\n",
      " 2.96405  2.653721 2.859097 1.572036 1.387489 2.941929 2.973569 2.041376\n",
      " 2.02472  2.133964 2.702457 1.760038 1.996646 2.644094 2.475892 2.941627\n",
      " 2.998441 2.397284 2.382705 2.176317 2.877743 2.303041 2.323003 1.99953\n",
      " 1.585183 2.281963 2.561638 2.600217 2.79166  2.08868  2.206119 2.328469\n",
      " 2.002784 1.975675 2.002076 2.218599 2.392179 2.381164 2.008245 2.155182\n",
      " 2.969233 2.765063 2.195964 2.619987 2.918113 2.889485 2.939727 1.264234\n",
      " 1.517912 2.23372  1.475906 2.032883 2.046651 2.667229 2.819934 2.954417\n",
      " 2.826251 2.95841  2.935157 2.870895 2.869833 1.878251 1.750809 1.168856\n",
      " 1.443674 2.826036 2.9553   2.774562 2.772027 2.499626 2.108638 2.467548\n",
      " 2.585942 2.14961  2.938616 2.535154 2.611222 1.800122 1.482722 1.735664\n",
      " 1.655684 2.598207 2.225149 2.519592 2.111887 2.970983 2.907542 1.451337\n",
      " 1.537505 1.893428 2.007845 2.487781 2.541785 2.813775 2.562687 2.922511\n",
      " 2.836055 2.880759 2.766441 2.997524 2.320201 2.181057 1.924632 1.397468\n",
      " 2.191429 2.100177 2.075321 1.626369 1.263216 1.067909 2.310751 2.294259\n",
      " 2.57649  2.679664 2.938687 2.654792 2.731368 2.22259  2.432355 2.497548\n",
      " 2.671238 2.57691  2.341999 2.117121 2.247037 2.244654 2.128574 2.068834\n",
      " 2.073224 2.145114 2.997951 2.911312 2.159033 2.175276 2.21965  2.203962\n",
      " 1.947495 2.262292 2.219186 2.314175 2.423291 2.637202 2.974006 2.347942\n",
      " 2.654076 2.739    2.591292 2.611847 2.766612 2.777165 2.232836 2.571274\n",
      " 2.49619  2.151335 2.01695  2.927187 1.412566 1.289315 1.624366 1.528331\n",
      " 2.037042 2.191108 1.431346 1.84199  2.499388 2.230742 2.240757 2.996186\n",
      " 2.649406 2.525884 2.736647 2.684335 2.425503 1.469384 2.906269 2.808027\n",
      " 2.636719 2.996717 2.880483 2.885693 2.913452 2.919526 2.724121 2.801992\n",
      " 2.748971 2.680375]\n",
      "[3.       1.       4.       3.28926  3.995147 1.72626  2.581015 1.600812\n",
      " 1.73762  1.10548  2.0846   1.894384 2.857787 3.765526 3.285167 3.691226\n",
      " 3.156153 1.07976  3.559841 3.891994 3.240578 3.904858 3.11158  3.590039\n",
      " 2.057935 3.558637 2.000986 3.821168 3.897078 3.092116 3.286431 3.592415\n",
      " 3.754599 3.566082 3.725797 3.520555 3.731212 1.259803 1.273128 3.304123\n",
      " 3.647154 3.300666 3.535016 1.717608 2.884479 3.626815 1.473088 3.16645\n",
      " 3.494849 2.99321  2.127797 3.90779  3.699594 3.179995 1.075553 3.238258\n",
      " 3.804944 1.630846 3.762778 3.371832 2.705445 3.34175  2.217651 2.893778\n",
      " 3.502604 3.998766 3.193671 1.69608  2.812377 1.612747 1.082304 1.882158\n",
      " 2.326233 1.989398 1.735493 2.974568 3.715118 3.489918 3.378859 3.263201\n",
      " 3.994588 3.24934  3.087544 1.163666 3.409363 3.281391 3.98525  3.207071\n",
      " 3.471536 3.488342 3.443456 3.03779  3.642802 2.645858 3.420618 2.64155\n",
      " 3.887906 3.435905 3.747163 2.625475 3.098399 3.12544  3.96981  3.712183\n",
      " 3.832911 3.576103 3.56544  3.266644 3.433908 3.531038 3.998618 1.226342\n",
      " 1.060796 3.595761 3.737914 3.697831 3.21043  3.45259  3.205587 1.513835\n",
      " 2.779379 3.732126 3.937099 3.047959 2.975362 1.394539 3.131032 1.578521\n",
      " 3.985442 3.623364 3.36313  1.146052 3.981997 1.9154   2.105616 3.714833\n",
      " 3.292386 1.104642 3.654061 1.296156 2.656588 2.809716 2.77684  1.999014\n",
      " 2.644692 2.449723 2.794156 1.146794 1.131695 2.488189 3.999591 3.612941\n",
      " 3.950553 2.951837 2.799979 2.228113 3.042774 1.198643 1.555557 3.987707\n",
      " 3.995957 1.047197 1.193589 3.390143 3.546352 3.266501 3.554974 2.372311\n",
      " 2.10601  3.715306 3.376717 1.211606 3.98955  3.171082 3.105007 1.590982\n",
      " 1.704828 2.725012 2.372339 1.097312 1.068196 1.411685 2.752318 2.737571\n",
      " 2.973504 2.608055 2.625942 1.411808 1.095223 3.30846  3.821461 2.658639\n",
      " 2.339614 1.713762 2.743277 3.051804 3.245148 3.563744 3.829101 3.058539\n",
      " 3.196043 1.391778 1.13715  3.322522 3.269088 2.938135 1.259628 2.965494\n",
      " 2.845307 3.095663 3.483449 3.156309 3.728377 3.60885  3.370362 2.39007\n",
      " 1.101404 2.756405 3.054899 3.118013 3.335876 3.205009 3.648194 1.865238\n",
      " 2.118153 2.961113 2.400943 2.870005 1.030416 2.696051 2.762883 2.401341\n",
      " 2.298612 3.618722 2.562895 2.849848 2.805436 3.715148 3.788602 1.893811\n",
      " 1.010319 2.669766 1.322087 2.041558 2.468421 2.110937 3.071028 3.292956\n",
      " 2.283673 1.124977 2.9948   2.983297 1.890213 1.888067 2.256119 2.6648\n",
      " 2.547086 2.812283 2.278652 1.240046 1.660768 2.597608 2.044035 2.038373\n",
      " 1.474836 3.986652 2.720642 1.976744 2.679724 1.619796 2.59257  1.546665\n",
      " 3.339914 3.884861 2.358298 1.802305 2.7976   2.627173 1.032887 3.014808\n",
      " 2.271734 2.122545 2.902766 2.687502 1.178708 2.279546 2.677693 3.53009\n",
      " 1.835543 2.853676 2.337035 1.631184 1.005391 3.250467 2.948721 1.80993\n",
      " 1.94671  2.9796   2.994198 2.579291 2.449067 1.532833 2.961706 1.152521\n",
      " 1.729553 1.346987 1.977221 2.443812 2.491315 2.843319 2.157164 2.601675\n",
      " 1.171027 3.362758 1.672706 2.714115 2.521546 1.338033 1.081805 3.087119\n",
      " 2.909117 1.466393 1.471053 2.983201 2.783336 1.863012 3.053598 3.165837\n",
      " 2.741413 1.058123 2.997414 1.672958 1.680838 3.070386 2.608416 1.599464\n",
      " 2.815255 2.395785 2.844138 2.716106 1.402771 2.865657 1.836226 2.884848\n",
      " 2.375026 2.9774   2.693646 2.832018 2.270163 2.646717 1.193729 1.477581\n",
      " 3.209508 2.756622 2.658478 1.971472 1.818026 1.820779 1.724887 3.129155\n",
      " 3.856434 2.753418 2.116195 2.049908 1.044628 2.98212  1.009426 2.667711\n",
      " 3.000974 2.698883 2.598079 2.837388 2.946063 1.873484 2.473911 1.79558\n",
      " 2.623079 2.174968 2.676148 3.394788 2.137068 2.937607 1.313403 2.113575\n",
      " 2.092179 2.974204 1.001633 1.2919   1.139317 2.029858 2.977543 1.476204\n",
      " 2.57038  2.879541 1.458507 1.105617 1.854536 1.08687  1.25535  2.870661\n",
      " 1.482103 1.81698  2.582591 2.164839 2.141839 2.877583 2.95833  2.119826\n",
      " 2.992606 2.050121 1.923607 2.27374  1.418985 1.320768 2.964024 2.933409\n",
      " 2.962004 1.271624 1.00061  1.068443 2.952821 1.851088 2.119682 2.970675\n",
      " 2.966803 1.508685 2.209314 1.114564 2.036794 2.988539 1.630506 2.977999\n",
      " 2.733077 2.427137 1.867836 1.548407 2.937989 1.237454 1.169173 2.391753\n",
      " 2.475444 2.478794 2.070033 2.282392 1.049534 1.66338  1.672751 1.734762\n",
      " 1.92822  2.475228 2.093831 1.231915 1.374791 1.326982 2.900915 1.317884\n",
      " 2.977909 1.355752 1.015488 2.986172 2.993623 1.001383 1.001542 2.590283\n",
      " 1.773916 2.989112 1.496776 2.994046 1.000283 1.000414 1.135278 2.463113\n",
      " 1.782109 2.376374 2.976098 2.968098 1.792695 1.116401 2.984523 2.978103\n",
      " 1.578751 1.874532 2.735706 1.014916 2.622055 2.806566 1.355354 1.478334\n",
      " 1.130751 1.099151 2.358455 1.706551 1.24884  1.250548 1.202179 1.194815\n",
      " 2.880817 2.918124 1.073421 1.416309 2.18162  2.152733 1.046144 1.974233\n",
      " 2.880794 2.765213 2.967089 2.37985  2.655265 1.941307 1.709546 2.883984\n",
      " 2.935381 2.961192 2.973476 2.392811 1.293342 2.930044 2.129909 2.831771\n",
      " 2.595126 2.52751  2.120936 1.468948 3.990925 2.834253 3.734323 2.049565\n",
      " 2.272214 2.218285 1.418833 1.109956 3.914454 3.169089 2.419656 2.175432\n",
      " 2.806298 2.987652 2.842848 1.134321 1.924168 2.701689 2.992903 2.658837\n",
      " 2.80742  1.834472 2.123138 1.265463 1.340361 3.989492 2.650088 2.89292\n",
      " 2.938902 2.986637 2.701521 2.014671 1.971659 1.311797 1.262831 3.770379\n",
      " 2.87747  2.175153 2.13229  2.993634 2.999346 2.976211 2.842035 1.09749\n",
      " 1.91863  2.510135 2.65772  2.604998 2.567567 2.434347 1.845858 1.627555\n",
      " 1.569176 2.371658 2.378211 2.301129 2.454432 2.915921 2.992083 2.849347\n",
      " 2.954446 3.755976 2.902639 2.372705 2.100918 2.272801 2.692889 2.280545\n",
      " 2.675411 1.487674 1.02075  1.240424 1.154318 3.219347 3.656401 3.220181\n",
      " 2.850948 2.187145 2.415522 2.138375 1.077331 2.888193 2.574108 2.740492\n",
      " 2.956422 2.749334 2.993856 2.993084 2.989791 2.920373 2.911568 1.134042\n",
      " 1.120102 2.040582 2.015675 2.711238 2.695396 2.996834 2.996444 2.894142\n",
      " 2.683061 2.806341 2.791366 1.703299 1.685134 2.269799 2.142328 1.437959\n",
      " 1.343117 1.213431 1.089048]\n",
      "['Sometimes' 'Frequently' 'Always' 'no']\n",
      "['no' 'yes']\n",
      "[2.       3.       1.       ... 2.054193 2.852339 2.863513]\n",
      "['no' 'yes']\n",
      "[0.       3.       2.       ... 1.414209 1.139107 1.026452]\n",
      "[1.       0.       2.       ... 0.646288 0.586035 0.714137]\n",
      "['no' 'Sometimes' 'Frequently' 'Always']\n",
      "['Public_Transportation' 'Walking' 'Automobile' 'Motorbike' 'Bike']\n",
      "['Normal_Weight' 'Overweight_Level_I' 'Overweight_Level_II'\n",
      " 'Obesity_Type_I' 'Insufficient_Weight' 'Obesity_Type_II'\n",
      " 'Obesity_Type_III']\n"
     ]
    }
   ],
   "source": [
    "for column in df:\n",
    "    print(df[column].unique())"
   ]
  },
  {
   "cell_type": "code",
   "execution_count": 41,
   "metadata": {},
   "outputs": [],
   "source": [
    "oe_ftrs = ['CAEC','CALC'] # if you have more than one ordinal feature, add the feature names here\n",
    "oe_cats = [['no','Sometimes','Frequently','Always'],['no','Sometimes','Frequently','Always']]\n",
    "oh_ftrs = ['Gender','family_history_with_overweight','FAVC','SMOKE','SCC','MTRANS']\n",
    "ss_ftrs = ['Age','Height','Weight','FCVC','NCP','CH2O','FAF','TUE',]\n",
    "oe = OrdinalEncoder(categories = oe_cats) \n",
    "ohe = OneHotEncoder(sparse=False,handle_unknown='ignore')\n",
    "\n",
    "# minmax_ftrs = ['age','hours-per-week']\n",
    "# mmscaler = MinMaxScaler()\n",
    "# mmscaler.fit(X_train[minmax_ftrs])\n",
    "\n",
    "ss = StandardScaler()\n",
    "le = LabelEncoder()"
   ]
  },
  {
   "cell_type": "code",
   "execution_count": 47,
   "metadata": {},
   "outputs": [],
   "source": [
    "# oe.fit(X_train[oe_ftrs])\n",
    "# X_train = oe.transform(X_train[oe_ftrs])\n",
    "# ohe.fit(X_train)\n",
    "# X_train = ohe.transform(X_train)\n",
    "# X_train = ss.fit_transform(X_train)\n",
    "# # ss.transform(X_test)\n",
    "# y_train = le.fit_transform(y_train)\n",
    "\n",
    "preprocessor = ColumnTransformer(\n",
    "    transformers=[\n",
    "        ('ord', OrdinalEncoder(categories = oe_cats), oe_ftrs),\n",
    "        ('onehot', OneHotEncoder(sparse=False,handle_unknown='ignore'), oh_ftrs),\n",
    "        ('std', StandardScaler(), ss_ftrs)])\n",
    "\n",
    "clf = Pipeline(steps=[('preprocessor', preprocessor)]) # for now we only preprocess \n",
    "                                                       # later on we will add other steps here\n",
    "\n",
    "X_train_prep = clf.fit_transform(X_train)\n",
    "X_val_prep = clf.transform(X_val)\n",
    "X_test_prep = clf.transform(X_test)\n",
    "y_train_prep = le.fit_transform(y_train)\n",
    "y_val_prep = le.transform(y_val)\n",
    "y_test_prep = le.transform(y_test)"
   ]
  },
  {
   "cell_type": "code",
   "execution_count": 43,
   "metadata": {},
   "outputs": [
    {
     "data": {
      "text/plain": [
       "array([ 1.        ,  1.        ,  1.        ,  0.        ,  0.        ,\n",
       "        1.        ,  0.        ,  1.        ,  1.        ,  0.        ,\n",
       "        1.        ,  0.        ,  0.        ,  0.        ,  0.        ,\n",
       "        1.        ,  0.        , -0.54209307,  0.53389901,  1.7985224 ,\n",
       "        1.05463825,  0.4015577 ,  1.45795982,  0.54246069,  0.21419468])"
      ]
     },
     "execution_count": 43,
     "metadata": {},
     "output_type": "execute_result"
    }
   ],
   "source": [
    "X_train_prep[1,:]"
   ]
  },
  {
   "cell_type": "code",
   "execution_count": 48,
   "metadata": {},
   "outputs": [
    {
     "data": {
      "text/plain": [
       "array([1, 4, 2, ..., 6, 2, 5])"
      ]
     },
     "execution_count": 48,
     "metadata": {},
     "output_type": "execute_result"
    }
   ],
   "source": [
    "y_train_prep"
   ]
  },
  {
   "cell_type": "code",
   "execution_count": null,
   "metadata": {},
   "outputs": [],
   "source": []
  }
 ],
 "metadata": {
  "kernelspec": {
   "display_name": "Python 3",
   "language": "python",
   "name": "python3"
  },
  "language_info": {
   "codemirror_mode": {
    "name": "ipython",
    "version": 3
   },
   "file_extension": ".py",
   "mimetype": "text/x-python",
   "name": "python",
   "nbconvert_exporter": "python",
   "pygments_lexer": "ipython3",
   "version": "3.8.3"
  }
 },
 "nbformat": 4,
 "nbformat_minor": 4
}
